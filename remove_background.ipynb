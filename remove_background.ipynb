{
 "cells": [
  {
   "cell_type": "code",
   "execution_count": null,
   "metadata": {},
   "outputs": [],
   "source": [
    "import numpy as np\n",
    "import cv2\n",
    "import matplotlib.pyplot as plt\n",
    "import os\n",
    "\n",
    "import torch\n",
    "import torchvision\n",
    "from torchvision import transforms"
   ]
  },
  {
   "cell_type": "code",
   "execution_count": null,
   "metadata": {},
   "outputs": [],
   "source": [
    "image_path = 'examples/images/sample.png'\n",
    "image_name = os.path.basename(image_path)\n",
    "img = cv2.imread(image_path)\n",
    "img = img[...,::-1] #BGR->RGB\n",
    "h,w,_ = img.shape\n",
    "img = cv2.resize(img,(320,320))"
   ]
  },
  {
   "cell_type": "code",
   "execution_count": null,
   "metadata": {},
   "outputs": [],
   "source": [
    "device = torch.device(\"cuda:0\" if torch.cuda.is_available() else \"cpu\")\n",
    "\n",
    "model = torchvision.models.segmentation.deeplabv3_resnet101(pretrained=True)\n",
    "model = model.to(device)\n",
    "model.eval()"
   ]
  },
  {
   "cell_type": "code",
   "execution_count": null,
   "metadata": {},
   "outputs": [],
   "source": [
    "preprocess = transforms.Compose([\n",
    "    transforms.ToTensor(),\n",
    "    transforms.Normalize(mean=[0.485, 0.456, 0.406], std=[0.229, 0.224, 0.225]),\n",
    "])\n",
    "\n",
    "input_tensor = preprocess(img)\n",
    "input_batch = input_tensor.unsqueeze(0).to(device)"
   ]
  },
  {
   "cell_type": "code",
   "execution_count": null,
   "metadata": {},
   "outputs": [],
   "source": [
    "with torch.no_grad():\n",
    "    output = model(input_batch)['out'][0]\n",
    "output = output.argmax(0)\n",
    "mask = output.byte().cpu().numpy()\n",
    "mask = cv2.resize(mask,(w,h))\n",
    "img = cv2.resize(img,(w,h))\n",
    "cv2.imwrite('./examples/mask/'+image_name,mask)\n",
    "plt.gray()\n",
    "plt.figure(figsize=(20,20))\n",
    "plt.subplot(1,2,1)\n",
    "plt.imshow(img)\n",
    "plt.subplot(1,2,2)\n",
    "plt.imshow(mask)"
   ]
  },
  {
   "cell_type": "code",
   "execution_count": null,
   "metadata": {},
   "outputs": [],
   "source": [
    "def binarize_image(image):\n",
    "    image_bi = image.copy()\n",
    "    image_bi[np.where(image_bi > 0)] = 255\n",
    "    return image_bi"
   ]
  },
  {
   "cell_type": "code",
   "execution_count": null,
   "metadata": {},
   "outputs": [],
   "source": [
    "def gen_trimap(mask,k_size=(5,5),ite=1):\n",
    "    kernel = np.ones(k_size,np.uint8)\n",
    "    eroded = cv2.erode(mask,kernel,iterations = ite)\n",
    "    dilated = cv2.dilate(mask,kernel,iterations = ite)\n",
    "    eroded_bi = binarize_image(eroded)\n",
    "    dilated_bi = binarize_image(dilated)\n",
    "    trimap = np.full(mask.shape,128)\n",
    "    trimap[eroded_bi == 255] = 255\n",
    "    trimap[dilated_bi == 0] = 0\n",
    "    return trimap\n",
    "trimap = gen_trimap(mask,k_size=(5,5),ite=3)\n",
    "cv2.imwrite('./examples/trimaps/'+image_name,trimap)\n",
    "plt.figure(figsize=(20,20))\n",
    "plt.subplot(1,2,1)\n",
    "plt.imshow(img)\n",
    "plt.subplot(1,2,2)\n",
    "plt.imshow(trimap)"
   ]
  },
  {
   "cell_type": "code",
   "execution_count": null,
   "metadata": {},
   "outputs": [],
   "source": []
  },
  {
   "cell_type": "code",
   "execution_count": null,
   "metadata": {},
   "outputs": [],
   "source": [
    "import numpy as np\n",
    "import cv2\n",
    "import matplotlib.pyplot as plt"
   ]
  },
  {
   "cell_type": "code",
   "execution_count": null,
   "metadata": {},
   "outputs": [],
   "source": [
    "img = cv2.imread('./examples/images/'+image_name)\n",
    "img = img[...,::-1]\n",
    "matte = cv2.imread('./examples/mattes/'+image_name)\n",
    "h,w,_ = img.shape\n",
    "bg = np.full_like(img,0) #white background"
   ]
  },
  {
   "cell_type": "code",
   "execution_count": null,
   "metadata": {},
   "outputs": [],
   "source": [
    "img = img.astype(float)\n",
    "bg = bg.astype(float)\n",
    "\n",
    "matte = matte.astype(float)/255\n",
    "img = cv2.multiply(img, matte)\n",
    "bg = cv2.multiply(bg, 1.0 - matte)\n",
    "outImage = cv2.add(img, bg)\n",
    "plt.imshow(outImage/255)"
   ]
  },
  {
   "cell_type": "code",
   "execution_count": null,
   "metadata": {},
   "outputs": [],
   "source": []
  }
 ],
 "metadata": {
  "language_info": {
   "codemirror_mode": {
    "name": "ipython",
    "version": 3
   },
   "file_extension": ".py",
   "mimetype": "text/x-python",
   "name": "python",
   "nbconvert_exporter": "python",
   "pygments_lexer": "ipython3",
   "version": "3.7.7-final"
  },
  "orig_nbformat": 2,
  "kernelspec": {
   "name": "python37764bitremovebgconda8015702d7ce84e8cb4da0d887e67919a",
   "display_name": "Python 3.7.7 64-bit ('remove_bg': conda)"
  }
 },
 "nbformat": 4,
 "nbformat_minor": 2
}